{
 "cells": [
  {
   "cell_type": "code",
   "execution_count": 48,
   "id": "30101fc5",
   "metadata": {},
   "outputs": [
    {
     "name": "stdout",
     "output_type": "stream",
     "text": [
      "4\n",
      "-3 -4 -5 -1\n",
      "-1\n"
     ]
    }
   ],
   "source": [
    "# returns the temperature closest to zero\n",
    "\n",
    "\n",
    "temp = 10000 \n",
    "\n",
    "try:\n",
    "    n = int(input())\n",
    "    for i in input().split():\n",
    "        t = int(i)\n",
    "        if abs(t) < abs(temp):\n",
    "            temp = t\n",
    "        if abs(temp) == abs(t):\n",
    "            temp = t\n",
    "                \n",
    "    print(temp)\n",
    "\n",
    "    \n",
    "except:\n",
    "    print(0)\n",
    "\n",
    "    \n",
    "    \n",
    "\n",
    "\n",
    "\n"
   ]
  },
  {
   "cell_type": "code",
   "execution_count": 50,
   "id": "a04d276e",
   "metadata": {},
   "outputs": [
    {
     "name": "stdout",
     "output_type": "stream",
     "text": [
      "5\n",
      "6\n",
      "0\n"
     ]
    }
   ],
   "source": [
    "# Print's the perfect squares between two numbers\n",
    "a = int(input())\n",
    "b = int(input())\n",
    "cnt = 0\n",
    "for num in range(a,b+1):\n",
    "    if type(num**(0.5)) == type(1):\n",
    "        cnt += 1\n",
    "\n",
    "    else:\n",
    "        continue\n",
    "        \n",
    "print(cnt)"
   ]
  }
 ],
 "metadata": {
  "kernelspec": {
   "display_name": "Python 3",
   "language": "python",
   "name": "python3"
  },
  "language_info": {
   "codemirror_mode": {
    "name": "ipython",
    "version": 3
   },
   "file_extension": ".py",
   "mimetype": "text/x-python",
   "name": "python",
   "nbconvert_exporter": "python",
   "pygments_lexer": "ipython3",
   "version": "3.8.8"
  }
 },
 "nbformat": 4,
 "nbformat_minor": 5
}
