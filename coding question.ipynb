{
 "cells": [
  {
   "cell_type": "code",
   "execution_count": null,
   "id": "c4bad327",
   "metadata": {},
   "outputs": [],
   "source": []
  },
  {
   "cell_type": "code",
   "execution_count": 88,
   "id": "8f81925b",
   "metadata": {},
   "outputs": [],
   "source": [
    "def func(total, q,p):\n",
    "    flag = True\n",
    "    for item in range(1,total):\n",
    "        \n",
    "        q_no = item\n",
    "        p_no = (total - q*item) / p\n",
    "        \n",
    "        if (total - q*item) % p == 0:\n",
    "            if q_no > p_no and q*item < total:\n",
    "                \n",
    "                print (f'(Q,{item}) & (P,{int((total - q*item) / p)})')\n",
    "               \n",
    "                \n",
    "                flag = False\n",
    "            \n",
    "    if flag:            \n",
    "        print(0)\n",
    "    "
   ]
  },
  {
   "cell_type": "code",
   "execution_count": 89,
   "id": "5b95de45",
   "metadata": {},
   "outputs": [
    {
     "name": "stdout",
     "output_type": "stream",
     "text": [
      "(Q,50) & (P,44)\n",
      "(Q,53) & (P,40)\n",
      "(Q,56) & (P,36)\n",
      "(Q,59) & (P,32)\n",
      "(Q,62) & (P,28)\n",
      "(Q,65) & (P,24)\n",
      "(Q,68) & (P,20)\n",
      "(Q,71) & (P,16)\n",
      "(Q,74) & (P,12)\n",
      "(Q,77) & (P,8)\n",
      "(Q,80) & (P,4)\n"
     ]
    }
   ],
   "source": [
    "func(332,4,3)"
   ]
  }
 ],
 "metadata": {
  "hide_input": false,
  "kernelspec": {
   "display_name": "Python 3",
   "language": "python",
   "name": "python3"
  },
  "language_info": {
   "codemirror_mode": {
    "name": "ipython",
    "version": 3
   },
   "file_extension": ".py",
   "mimetype": "text/x-python",
   "name": "python",
   "nbconvert_exporter": "python",
   "pygments_lexer": "ipython3",
   "version": "3.8.8"
  }
 },
 "nbformat": 4,
 "nbformat_minor": 5
}
